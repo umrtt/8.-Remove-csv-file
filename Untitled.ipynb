{
 "cells": [
  {
   "cell_type": "code",
   "execution_count": 2,
   "id": "d9057b91-e994-4cad-9a91-2dc2f09120ee",
   "metadata": {},
   "outputs": [],
   "source": [
    "from pathlib import Path"
   ]
  },
  {
   "cell_type": "code",
   "execution_count": 72,
   "id": "1bb56604-a8d5-445f-9bb5-44733f36228c",
   "metadata": {},
   "outputs": [],
   "source": [
    "file_path = Path(r'.\\test')"
   ]
  },
  {
   "cell_type": "code",
   "execution_count": 58,
   "id": "7579a9ce-99aa-46e9-a4aa-b76ee4ad87f9",
   "metadata": {},
   "outputs": [
    {
     "data": {
      "text/plain": [
       "True"
      ]
     },
     "execution_count": 58,
     "metadata": {},
     "output_type": "execute_result"
    }
   ],
   "source": [
    "pred_list = ['FPDC.csv', 'IPQC.csv','OpticalCenter.csv','VCM.csv']\n",
    "file_name = Path(r'test\\8\\6\\ngày\\IPQC_OpticalCenter.csv')\n",
    "def should_ignore(file_name:Path, ignore_words:list):\n",
    "    \"\"\"Check if the file name contains any of the ignore words.\"\"\"\n",
    "    return any(word in file_name.name for word in ignore_words)\n",
    "should_ignore(file_name,pred_list)"
   ]
  },
  {
   "cell_type": "code",
   "execution_count": 80,
   "id": "f0889808-712d-4d79-8908-292766e20397",
   "metadata": {},
   "outputs": [],
   "source": [
    "for file in file_path.rglob('*.csv'):\n",
    "    if not should_ignore(file,pred_list):\n",
    "        print(f'Remove {file.name}')\n",
    "        file.unlink()"
   ]
  },
  {
   "cell_type": "code",
   "execution_count": 82,
   "id": "18bb7f1e-3025-4264-90b9-9c279bb8e6da",
   "metadata": {},
   "outputs": [
    {
     "name": "stdout",
     "output_type": "stream",
     "text": [
      "Counts of files:\n",
      "FPDC.csv: 192\n",
      "IPQC.csv: 192\n",
      "OpticalCenter.csv: 192\n",
      "VCM.csv: 192\n",
      "not_in_list: 5568\n"
     ]
    }
   ],
   "source": [
    "from pathlib import Path\n",
    "\n",
    "def count_files(main_folder, pred_list):\n",
    "    \"\"\"Count occurrences of files that contain substrings from pred_list.\"\"\"\n",
    "    # Create a Path object for the main folder\n",
    "    main_path = Path(main_folder)\n",
    "    \n",
    "    # Initialize a dictionary to store counts for substrings in pred_list\n",
    "    counts = {name: 0 for name in pred_list}\n",
    "    count_not_in_list = 0\n",
    "\n",
    "    # Iterate through all files in the directory and subdirectories\n",
    "    for file_path in main_path.rglob('*'):\n",
    "        if file_path.is_file():\n",
    "            matched = False\n",
    "            # Check if any substring from pred_list is in the file name\n",
    "            for name in pred_list:\n",
    "                if name in file_path.name:\n",
    "                    counts[name] += 1\n",
    "                    matched = True\n",
    "                    break  # Stop checking after the first match\n",
    "            \n",
    "            if not matched:\n",
    "                count_not_in_list += 1\n",
    "\n",
    "    # Add the count of files not in the list to the dictionary\n",
    "    counts['not_in_list'] = count_not_in_list\n",
    "    \n",
    "    return counts\n",
    "\n",
    "def main():\n",
    "    # Define the main folder and the list of substrings to check\n",
    "    main_folder = r'E:\\2.WorkSpace\\2.Python\\8. Remove csv file\\test - Copy'  # Change this to your main folder path\n",
    "    pred_list = ['FPDC.csv', 'IPQC.csv', 'OpticalCenter.csv', 'VCM.csv']  # List of substrings to check\n",
    "\n",
    "    # Count files and get the result\n",
    "    result = count_files(main_folder, pred_list)\n",
    "    \n",
    "    # Print the result\n",
    "    print(\"Counts of files:\")\n",
    "    for file_name, count in result.items():\n",
    "        print(f\"{file_name}: {count}\")\n",
    "\n",
    "if __name__ == \"__main__\":\n",
    "    main()"
   ]
  },
  {
   "cell_type": "code",
   "execution_count": null,
   "id": "3b98bf90-2345-45c8-be6a-03a4ef7c91b5",
   "metadata": {},
   "outputs": [],
   "source": []
  }
 ],
 "metadata": {
  "kernelspec": {
   "display_name": "Python 3 (ipykernel)",
   "language": "python",
   "name": "python3"
  },
  "language_info": {
   "codemirror_mode": {
    "name": "ipython",
    "version": 3
   },
   "file_extension": ".py",
   "mimetype": "text/x-python",
   "name": "python",
   "nbconvert_exporter": "python",
   "pygments_lexer": "ipython3",
   "version": "3.12.4"
  }
 },
 "nbformat": 4,
 "nbformat_minor": 5
}
